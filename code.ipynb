{
  "nbformat": 4,
  "nbformat_minor": 0,
  "metadata": {
    "colab": {
      "provenance": [],
      "authorship_tag": "ABX9TyPDqf7JPmGaWcTQTISOVbwY",
      "include_colab_link": true
    },
    "kernelspec": {
      "name": "python3",
      "display_name": "Python 3"
    },
    "language_info": {
      "name": "python"
    }
  },
  "cells": [
    {
      "cell_type": "markdown",
      "metadata": {
        "id": "view-in-github",
        "colab_type": "text"
      },
      "source": [
        "<a href=\"https://colab.research.google.com/github/thisishasan/bigdata_mod_b/blob/main/code.ipynb\" target=\"_parent\"><img src=\"https://colab.research.google.com/assets/colab-badge.svg\" alt=\"Open In Colab\"/></a>"
      ]
    },
    {
      "cell_type": "code",
      "execution_count": 3,
      "metadata": {
        "colab": {
          "base_uri": "https://localhost:8080/"
        },
        "id": "DcpcP4QV6peE",
        "outputId": "3b0240ce-6681-474c-d156-8d9b96cd9863"
      },
      "outputs": [
        {
          "output_type": "stream",
          "name": "stdout",
          "text": [
            "File ‘dataset_aquifers_fe.csv’ already there; not retrieving.\n",
            "\n"
          ]
        }
      ],
      "source": [
        "#Download the dataset\n",
        "!wget -nc 'https://raw.githubusercontent.com/thisishasan/bigdata_mod_b/refs/heads/main/dataset_aquifers_fe.csv'"
      ]
    },
    {
      "cell_type": "code",
      "source": [],
      "metadata": {
        "id": "zo36v1ne7Y1t"
      },
      "execution_count": null,
      "outputs": []
    }
  ]
}